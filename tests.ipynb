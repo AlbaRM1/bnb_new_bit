{
 "cells": [
  {
   "cell_type": "code",
   "execution_count": 5,
   "metadata": {},
   "outputs": [
    {
     "name": "stdout",
     "output_type": "stream",
     "text": [
      "kr50\n"
     ]
    },
    {
     "ename": "UnboundLocalError",
     "evalue": "cannot access local variable 'symbol_name' where it is not associated with a value",
     "output_type": "error",
     "traceback": [
      "\u001b[1;31m---------------------------------------------------------------------------\u001b[0m",
      "\u001b[1;31mUnboundLocalError\u001b[0m                         Traceback (most recent call last)",
      "Cell \u001b[1;32mIn[5], line 2\u001b[0m\n\u001b[0;32m      1\u001b[0m a \u001b[38;5;241m=\u001b[39m \u001b[38;5;124m'\u001b[39m\u001b[38;5;124mkr50\u001b[39m\u001b[38;5;124m'\u001b[39m\n\u001b[1;32m----> 2\u001b[0m \u001b[43mconvert_to_eur\u001b[49m\u001b[43m(\u001b[49m\u001b[43ma\u001b[49m\u001b[43m)\u001b[49m\n",
      "Cell \u001b[1;32mIn[4], line 24\u001b[0m, in \u001b[0;36mconvert_to_eur\u001b[1;34m(value)\u001b[0m\n\u001b[0;32m     21\u001b[0m total \u001b[38;5;241m=\u001b[39m total\u001b[38;5;241m.\u001b[39mstrip()    \n\u001b[0;32m     22\u001b[0m total \u001b[38;5;241m=\u001b[39m \u001b[38;5;28mround\u001b[39m(\u001b[38;5;28mfloat\u001b[39m(total), \u001b[38;5;241m2\u001b[39m)\n\u001b[1;32m---> 24\u001b[0m \u001b[38;5;28mprint\u001b[39m(\u001b[43msymbol_name\u001b[49m)\n\u001b[0;32m     25\u001b[0m response_json \u001b[38;5;241m=\u001b[39m httpx\u001b[38;5;241m.\u001b[39mget(\u001b[38;5;124mf\u001b[39m\u001b[38;5;124m'\u001b[39m\u001b[38;5;124mhttps://cdn.jsdelivr.net/gh/fawazahmed0/currency-api@1/latest/currencies/\u001b[39m\u001b[38;5;132;01m{\u001b[39;00msymbol_name\u001b[38;5;132;01m}\u001b[39;00m\u001b[38;5;124m.json\u001b[39m\u001b[38;5;124m'\u001b[39m)\n\u001b[0;32m     26\u001b[0m rate \u001b[38;5;241m=\u001b[39m response_json[symbol_name][\u001b[38;5;124m'\u001b[39m\u001b[38;5;124meur\u001b[39m\u001b[38;5;124m'\u001b[39m]\n",
      "\u001b[1;31mUnboundLocalError\u001b[0m: cannot access local variable 'symbol_name' where it is not associated with a value"
     ]
    }
   ],
   "source": [
    "\n"
   ]
  },
  {
   "cell_type": "code",
   "execution_count": 53,
   "metadata": {},
   "outputs": [],
   "source": [
    "import json\n",
    "import re\n",
    "import httpx\n",
    "\n",
    "def convert_to_eur(value):\n",
    "    currencies = json.load(open('currencies.json', 'r', encoding='utf-8', errors='ignore'))[\"currencies\"]\n",
    "    \n",
    "    total_raw = value.replace('\\xa0', '')\n",
    "    print(total_raw)\n",
    "    \n",
    "    if ',' in total_raw:\n",
    "        total_raw = total_raw.replace(',', '')\n",
    "    \n",
    "    total = re.findall(r'[\\d\\.\\d]+', total_raw)[0]\n",
    "    symbol = total_raw.replace(total, '')\n",
    "    print(symbol)\n",
    "    \n",
    "    for i in currencies:\n",
    "        if symbol == i['symbol_native'] or symbol == i['symbol']:\n",
    "            symbol_name = i['code'].lower()\n",
    "    \n",
    "    total = total.strip()    \n",
    "    total = round(float(total), 2)\n",
    "    \n",
    "    response_json = httpx.get(f'https://cdn.jsdelivr.net/gh/fawazahmed0/currency-api@1/latest/currencies/{symbol_name}.json').json()\n",
    "    rate = response_json[symbol_name]['eur']\n",
    "\n",
    "    total = total * float(rate)\n",
    "    total = round(total, 2)\n",
    "    return total"
   ]
  },
  {
   "cell_type": "code",
   "execution_count": 55,
   "metadata": {},
   "outputs": [
    {
     "name": "stdout",
     "output_type": "stream",
     "text": [
      "R$100\n",
      "R$\n"
     ]
    },
    {
     "data": {
      "text/plain": [
       "18.7"
      ]
     },
     "execution_count": 55,
     "metadata": {},
     "output_type": "execute_result"
    }
   ],
   "source": [
    "a = 'R$100'\n",
    "convert_to_eur(a)"
   ]
  }
 ],
 "metadata": {
  "kernelspec": {
   "display_name": ".venv",
   "language": "python",
   "name": "python3"
  },
  "language_info": {
   "codemirror_mode": {
    "name": "ipython",
    "version": 3
   },
   "file_extension": ".py",
   "mimetype": "text/x-python",
   "name": "python",
   "nbconvert_exporter": "python",
   "pygments_lexer": "ipython3",
   "version": "3.11.8"
  }
 },
 "nbformat": 4,
 "nbformat_minor": 2
}
